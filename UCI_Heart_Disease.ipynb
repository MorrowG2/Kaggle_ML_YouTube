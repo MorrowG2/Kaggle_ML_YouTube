{
  "nbformat": 4,
  "nbformat_minor": 0,
  "metadata": {
    "colab": {
      "name": "UCI_Heart_Disease.ipynb",
      "provenance": []
    },
    "kernelspec": {
      "name": "python3",
      "display_name": "Python 3"
    }
  },
  "cells": [
    {
      "cell_type": "code",
      "metadata": {
        "colab": {
          "base_uri": "https://localhost:8080/"
        },
        "id": "kW1G7o0bK_LT",
        "outputId": "4faebb3f-f51f-499c-f49c-8d6af0694ef0"
      },
      "source": [
        "from google.colab import drive\n",
        "drive.mount('/content/drive')"
      ],
      "execution_count": 1,
      "outputs": [
        {
          "output_type": "stream",
          "text": [
            "Mounted at /content/drive\n"
          ],
          "name": "stdout"
        }
      ]
    },
    {
      "cell_type": "code",
      "metadata": {
        "colab": {
          "base_uri": "https://localhost:8080/"
        },
        "id": "OfjmYjxnLGIO",
        "outputId": "c1520635-ea81-4d19-b6a9-8234d200a219"
      },
      "source": [
        "!ls"
      ],
      "execution_count": 3,
      "outputs": [
        {
          "output_type": "stream",
          "text": [
            "drive  sample_data\n"
          ],
          "name": "stdout"
        }
      ]
    },
    {
      "cell_type": "code",
      "metadata": {
        "colab": {
          "base_uri": "https://localhost:8080/"
        },
        "id": "YEcibhR1L993",
        "outputId": "0f190df9-5e00-453b-c249-8458926e2d9c"
      },
      "source": [
        "%cd '/content/drive/My Drive/Kaggle/Heart Diesease'\n",
        "!ls"
      ],
      "execution_count": 5,
      "outputs": [
        {
          "output_type": "stream",
          "text": [
            "/content/drive/My Drive/Kaggle/Heart Diesease\n",
            "heart.csv  heart_disease.zip  UCI_Heart_Disease.ipynb\n"
          ],
          "name": "stdout"
        }
      ]
    },
    {
      "cell_type": "code",
      "metadata": {
        "colab": {
          "base_uri": "https://localhost:8080/"
        },
        "id": "2J1N7Lf6MbYJ",
        "outputId": "5c5bc21f-b8a0-4666-b86d-293d0badd793"
      },
      "source": [
        "!unzip '/content/drive/My Drive/Kaggle/Heart Diesease/heart_disease.zip'\n",
        "!ls"
      ],
      "execution_count": 5,
      "outputs": [
        {
          "output_type": "stream",
          "text": [
            "Archive:  /content/drive/My Drive/Kaggle/Heart Diesease/heart_disease.zip\n",
            "  inflating: heart.csv               \n",
            "heart.csv  heart_disease.zip  UCI_Heart_Disease.ipynb\n"
          ],
          "name": "stdout"
        }
      ]
    },
    {
      "cell_type": "code",
      "metadata": {
        "colab": {
          "base_uri": "https://localhost:8080/",
          "height": 80
        },
        "id": "FAxCdv1ZMI0j",
        "outputId": "2840ed54-2f53-4d89-8f9b-01dd0d892261"
      },
      "source": [
        "# EDA\n",
        "import pandas as pd\n",
        "import numpy as np\n",
        "import matplotlib.pyplot as plt\n",
        "import seaborn as sns\n",
        "%matplotlib inline\n",
        "\n",
        "\n",
        "df = pd.read_csv('heart.csv')\n",
        "df.head(1)"
      ],
      "execution_count": 51,
      "outputs": [
        {
          "output_type": "execute_result",
          "data": {
            "text/html": [
              "<div>\n",
              "<style scoped>\n",
              "    .dataframe tbody tr th:only-of-type {\n",
              "        vertical-align: middle;\n",
              "    }\n",
              "\n",
              "    .dataframe tbody tr th {\n",
              "        vertical-align: top;\n",
              "    }\n",
              "\n",
              "    .dataframe thead th {\n",
              "        text-align: right;\n",
              "    }\n",
              "</style>\n",
              "<table border=\"1\" class=\"dataframe\">\n",
              "  <thead>\n",
              "    <tr style=\"text-align: right;\">\n",
              "      <th></th>\n",
              "      <th>age</th>\n",
              "      <th>sex</th>\n",
              "      <th>cp</th>\n",
              "      <th>trestbps</th>\n",
              "      <th>chol</th>\n",
              "      <th>fbs</th>\n",
              "      <th>restecg</th>\n",
              "      <th>thalach</th>\n",
              "      <th>exang</th>\n",
              "      <th>oldpeak</th>\n",
              "      <th>slope</th>\n",
              "      <th>ca</th>\n",
              "      <th>thal</th>\n",
              "      <th>target</th>\n",
              "    </tr>\n",
              "  </thead>\n",
              "  <tbody>\n",
              "    <tr>\n",
              "      <th>0</th>\n",
              "      <td>63</td>\n",
              "      <td>1</td>\n",
              "      <td>3</td>\n",
              "      <td>145</td>\n",
              "      <td>233</td>\n",
              "      <td>1</td>\n",
              "      <td>0</td>\n",
              "      <td>150</td>\n",
              "      <td>0</td>\n",
              "      <td>2.3</td>\n",
              "      <td>0</td>\n",
              "      <td>0</td>\n",
              "      <td>1</td>\n",
              "      <td>1</td>\n",
              "    </tr>\n",
              "  </tbody>\n",
              "</table>\n",
              "</div>"
            ],
            "text/plain": [
              "   age  sex  cp  trestbps  chol  fbs  ...  exang  oldpeak  slope  ca  thal  target\n",
              "0   63    1   3       145   233    1  ...      0      2.3      0   0     1       1\n",
              "\n",
              "[1 rows x 14 columns]"
            ]
          },
          "metadata": {
            "tags": []
          },
          "execution_count": 51
        }
      ]
    },
    {
      "cell_type": "code",
      "metadata": {
        "colab": {
          "base_uri": "https://localhost:8080/"
        },
        "id": "uww1NwLiMpdk",
        "outputId": "930e6f92-31f8-4a4f-ff28-3c7b60cc27ec"
      },
      "source": [
        "df.info()"
      ],
      "execution_count": 52,
      "outputs": [
        {
          "output_type": "stream",
          "text": [
            "<class 'pandas.core.frame.DataFrame'>\n",
            "RangeIndex: 303 entries, 0 to 302\n",
            "Data columns (total 14 columns):\n",
            " #   Column    Non-Null Count  Dtype  \n",
            "---  ------    --------------  -----  \n",
            " 0   age       303 non-null    int64  \n",
            " 1   sex       303 non-null    int64  \n",
            " 2   cp        303 non-null    int64  \n",
            " 3   trestbps  303 non-null    int64  \n",
            " 4   chol      303 non-null    int64  \n",
            " 5   fbs       303 non-null    int64  \n",
            " 6   restecg   303 non-null    int64  \n",
            " 7   thalach   303 non-null    int64  \n",
            " 8   exang     303 non-null    int64  \n",
            " 9   oldpeak   303 non-null    float64\n",
            " 10  slope     303 non-null    int64  \n",
            " 11  ca        303 non-null    int64  \n",
            " 12  thal      303 non-null    int64  \n",
            " 13  target    303 non-null    int64  \n",
            "dtypes: float64(1), int64(13)\n",
            "memory usage: 33.3 KB\n"
          ],
          "name": "stdout"
        }
      ]
    },
    {
      "cell_type": "code",
      "metadata": {
        "colab": {
          "base_uri": "https://localhost:8080/"
        },
        "id": "Pb_E50UvMt2d",
        "outputId": "863e1e11-a238-4fd7-82db-588eb8120090"
      },
      "source": [
        "df.isna().sum()"
      ],
      "execution_count": 53,
      "outputs": [
        {
          "output_type": "execute_result",
          "data": {
            "text/plain": [
              "age         0\n",
              "sex         0\n",
              "cp          0\n",
              "trestbps    0\n",
              "chol        0\n",
              "fbs         0\n",
              "restecg     0\n",
              "thalach     0\n",
              "exang       0\n",
              "oldpeak     0\n",
              "slope       0\n",
              "ca          0\n",
              "thal        0\n",
              "target      0\n",
              "dtype: int64"
            ]
          },
          "metadata": {
            "tags": []
          },
          "execution_count": 53
        }
      ]
    },
    {
      "cell_type": "markdown",
      "metadata": {
        "id": "5AxO6_2GM5pS"
      },
      "source": [
        "# Exploritory Data Analysis\n",
        "\n",
        "1. NaN Values\n",
        "2. Look for outliers\n",
        "3. Get familiar with data (correlation matrix)"
      ]
    },
    {
      "cell_type": "code",
      "metadata": {
        "colab": {
          "base_uri": "https://localhost:8080/"
        },
        "id": "cfeYoZb2Mzch",
        "outputId": "db65f85c-c4e6-4634-b2e0-c05e92be4b93"
      },
      "source": [
        "df.target.value_counts()"
      ],
      "execution_count": 54,
      "outputs": [
        {
          "output_type": "execute_result",
          "data": {
            "text/plain": [
              "1    165\n",
              "0    138\n",
              "Name: target, dtype: int64"
            ]
          },
          "metadata": {
            "tags": []
          },
          "execution_count": 54
        }
      ]
    },
    {
      "cell_type": "code",
      "metadata": {
        "colab": {
          "base_uri": "https://localhost:8080/",
          "height": 404
        },
        "id": "Q85v2iM-07_2",
        "outputId": "177e71ba-437e-4e5b-9a5f-dc752290a41c"
      },
      "source": [
        "df.age.value_counts().plot.bar(figsize=(10,6))\n",
        "plt.title('Nuimber of People by Age')\n",
        "plt.xlabel('Age')\n",
        "plt.ylabel('Person Count')\n",
        "plt.xticks(rotation=1);"
      ],
      "execution_count": 55,
      "outputs": [
        {
          "output_type": "display_data",
          "data": {
            "image/png": "[encoded data removed]",
            "text/plain": [
              "<Figure size 720x432 with 1 Axes>"
            ]
          },
          "metadata": {
            "tags": [],
            "needs_background": "light"
          }
        }
      ]
    },
    {
      "cell_type": "code",
      "metadata": {
        "colab": {
          "base_uri": "https://localhost:8080/"
        },
        "id": "D1MEnPcu1Oo3",
        "outputId": "917b7439-3ced-4328-ae54-baab93c7a591"
      },
      "source": [
        "df.columns"
      ],
      "execution_count": 56,
      "outputs": [
        {
          "output_type": "execute_result",
          "data": {
            "text/plain": [
              "Index(['age', 'sex', 'cp', 'trestbps', 'chol', 'fbs', 'restecg', 'thalach',\n",
              "       'exang', 'oldpeak', 'slope', 'ca', 'thal', 'target'],\n",
              "      dtype='object')"
            ]
          },
          "metadata": {
            "tags": []
          },
          "execution_count": 56
        }
      ]
    },
    {
      "cell_type": "code",
      "metadata": {
        "colab": {
          "base_uri": "https://localhost:8080/",
          "height": 404
        },
        "id": "Dw3j5wGA1tuh",
        "outputId": "f0d98306-aea0-4258-a124-7a4c1a7b1e21"
      },
      "source": [
        "df.sex.value_counts().plot.bar(figsize=(10,6))\n",
        "# plt.legend(['1 = male 0 = female'])\n",
        "plt.title('Gender')\n",
        "plt.xlabel('1 = male; 0 = female')\n",
        "plt.ylabel('Person Count')\n",
        "plt.xticks(rotation=0);"
      ],
      "execution_count": 57,
      "outputs": [
        {
          "output_type": "display_data",
          "data": {
            "image/png": "[encoded data removed]",
            "text/plain": [
              "<Figure size 720x432 with 1 Axes>"
            ]
          },
          "metadata": {
            "tags": [],
            "needs_background": "light"
          }
        }
      ]
    },
    {
      "cell_type": "code",
      "metadata": {
        "colab": {
          "base_uri": "https://localhost:8080/",
          "height": 404
        },
        "id": "gWBevUoJ1yt6",
        "outputId": "4fb009b1-8fc6-419b-9f10-0507e9370c82"
      },
      "source": [
        "pd.crosstab(df.cp,df.target).plot.bar(figsize=(10,6))\n",
        "plt.legend(['0 = No Disease','1 = Disease'])\n",
        "plt.xticks(rotation=0)\n",
        "plt.xlabel('Chest Pain Value')\n",
        "plt.ylabel('Person Count')\n",
        "plt.title('Chest Pain & Disease');"
      ],
      "execution_count": 58,
      "outputs": [
        {
          "output_type": "display_data",
          "data": {
            "image/png": "[encoded data removed]",
            "text/plain": [
              "<Figure size 720x432 with 1 Axes>"
            ]
          },
          "metadata": {
            "tags": [],
            "needs_background": "light"
          }
        }
      ]
    },
    {
      "cell_type": "code",
      "metadata": {
        "colab": {
          "base_uri": "https://localhost:8080/",
          "height": 204
        },
        "id": "lBAR2QSj2sQM",
        "outputId": "42dae3a0-fcd7-4499-9400-931c3dc0b4e6"
      },
      "source": [
        "pd.crosstab(df.cp,df.target)"
      ],
      "execution_count": 59,
      "outputs": [
        {
          "output_type": "execute_result",
          "data": {
            "text/html": [
              "<div>\n",
              "<style scoped>\n",
              "    .dataframe tbody tr th:only-of-type {\n",
              "        vertical-align: middle;\n",
              "    }\n",
              "\n",
              "    .dataframe tbody tr th {\n",
              "        vertical-align: top;\n",
              "    }\n",
              "\n",
              "    .dataframe thead th {\n",
              "        text-align: right;\n",
              "    }\n",
              "</style>\n",
              "<table border=\"1\" class=\"dataframe\">\n",
              "  <thead>\n",
              "    <tr style=\"text-align: right;\">\n",
              "      <th>target</th>\n",
              "      <th>0</th>\n",
              "      <th>1</th>\n",
              "    </tr>\n",
              "    <tr>\n",
              "      <th>cp</th>\n",
              "      <th></th>\n",
              "      <th></th>\n",
              "    </tr>\n",
              "  </thead>\n",
              "  <tbody>\n",
              "    <tr>\n",
              "      <th>0</th>\n",
              "      <td>104</td>\n",
              "      <td>39</td>\n",
              "    </tr>\n",
              "    <tr>\n",
              "      <th>1</th>\n",
              "      <td>9</td>\n",
              "      <td>41</td>\n",
              "    </tr>\n",
              "    <tr>\n",
              "      <th>2</th>\n",
              "      <td>18</td>\n",
              "      <td>69</td>\n",
              "    </tr>\n",
              "    <tr>\n",
              "      <th>3</th>\n",
              "      <td>7</td>\n",
              "      <td>16</td>\n",
              "    </tr>\n",
              "  </tbody>\n",
              "</table>\n",
              "</div>"
            ],
            "text/plain": [
              "target    0   1\n",
              "cp             \n",
              "0       104  39\n",
              "1         9  41\n",
              "2        18  69\n",
              "3         7  16"
            ]
          },
          "metadata": {
            "tags": []
          },
          "execution_count": 59
        }
      ]
    },
    {
      "cell_type": "code",
      "metadata": {
        "colab": {
          "base_uri": "https://localhost:8080/",
          "height": 607
        },
        "id": "beMIBaR83V4K",
        "outputId": "7d37e969-fb90-4ac2-a2e9-de988f41b506"
      },
      "source": [
        "# Historgrams\n",
        "df.hist(bins=14, figsize=(15,10));"
      ],
      "execution_count": 60,
      "outputs": [
        {
          "output_type": "display_data",
          "data": {
            "image/png": "[encoded data removed]",
            "text/plain": [
              "<Figure size 1080x720 with 16 Axes>"
            ]
          },
          "metadata": {
            "tags": [],
            "needs_background": "light"
          }
        }
      ]
    },
    {
      "cell_type": "code",
      "metadata": {
        "colab": {
          "base_uri": "https://localhost:8080/"
        },
        "id": "QsplWLbv3m4F",
        "outputId": "af6cc9ea-59fe-4e3c-ca0a-828cb122953e"
      },
      "source": [
        "df2 = df[df['chol'] > 500].index\n",
        "df2"
      ],
      "execution_count": 62,
      "outputs": [
        {
          "output_type": "execute_result",
          "data": {
            "text/plain": [
              "Int64Index([85], dtype='int64')"
            ]
          },
          "metadata": {
            "tags": []
          },
          "execution_count": 62
        }
      ]
    },
    {
      "cell_type": "code",
      "metadata": {
        "id": "FFtHxcq64O8u"
      },
      "source": [
        "df3 = df.drop(df2, inplace=True)\n",
        "df3"
      ],
      "execution_count": 64,
      "outputs": []
    },
    {
      "cell_type": "code",
      "metadata": {
        "colab": {
          "base_uri": "https://localhost:8080/",
          "height": 483
        },
        "id": "A2IcU-iI5fpV",
        "outputId": "9b086994-dbe0-424c-8324-7fd6e7708f01"
      },
      "source": [
        "# Scatter plots\n",
        "plt.figure(figsize=(10,8))\n",
        "\n",
        "plt.scatter(df.thalach[df.target==0],\n",
        "            df.age[df.target==0], \n",
        "            c='lightblue')\n",
        "plt.scatter(df.thalach[df.target==1],\n",
        "            df.age[df.target==1], \n",
        "            c='salmon');"
      ],
      "execution_count": 79,
      "outputs": [
        {
          "output_type": "display_data",
          "data": {
            "image/png": "[encoded data removed]",
            "text/plain": [
              "<Figure size 720x576 with 1 Axes>"
            ]
          },
          "metadata": {
            "tags": [],
            "needs_background": "light"
          }
        }
      ]
    },
    {
      "cell_type": "code",
      "metadata": {
        "colab": {
          "base_uri": "https://localhost:8080/",
          "height": 297
        },
        "id": "jQ8oC4Yw6ZCI",
        "outputId": "11ae0205-8652-427e-cf1f-a59c4ac2b71d"
      },
      "source": [
        "df.describe()"
      ],
      "execution_count": 80,
      "outputs": [
        {
          "output_type": "execute_result",
          "data": {
            "text/html": [
              "<div>\n",
              "<style scoped>\n",
              "    .dataframe tbody tr th:only-of-type {\n",
              "        vertical-align: middle;\n",
              "    }\n",
              "\n",
              "    .dataframe tbody tr th {\n",
              "        vertical-align: top;\n",
              "    }\n",
              "\n",
              "    .dataframe thead th {\n",
              "        text-align: right;\n",
              "    }\n",
              "</style>\n",
              "<table border=\"1\" class=\"dataframe\">\n",
              "  <thead>\n",
              "    <tr style=\"text-align: right;\">\n",
              "      <th></th>\n",
              "      <th>age</th>\n",
              "      <th>sex</th>\n",
              "      <th>cp</th>\n",
              "      <th>trestbps</th>\n",
              "      <th>chol</th>\n",
              "      <th>fbs</th>\n",
              "      <th>restecg</th>\n",
              "      <th>thalach</th>\n",
              "      <th>exang</th>\n",
              "      <th>oldpeak</th>\n",
              "      <th>slope</th>\n",
              "      <th>ca</th>\n",
              "      <th>thal</th>\n",
              "      <th>target</th>\n",
              "    </tr>\n",
              "  </thead>\n",
              "  <tbody>\n",
              "    <tr>\n",
              "      <th>count</th>\n",
              "      <td>302.000000</td>\n",
              "      <td>302.000000</td>\n",
              "      <td>302.000000</td>\n",
              "      <td>302.000000</td>\n",
              "      <td>302.000000</td>\n",
              "      <td>302.000000</td>\n",
              "      <td>302.000000</td>\n",
              "      <td>302.000000</td>\n",
              "      <td>302.000000</td>\n",
              "      <td>302.000000</td>\n",
              "      <td>302.000000</td>\n",
              "      <td>302.000000</td>\n",
              "      <td>302.000000</td>\n",
              "      <td>302.000000</td>\n",
              "    </tr>\n",
              "    <tr>\n",
              "      <th>mean</th>\n",
              "      <td>54.324503</td>\n",
              "      <td>0.685430</td>\n",
              "      <td>0.963576</td>\n",
              "      <td>131.678808</td>\n",
              "      <td>245.211921</td>\n",
              "      <td>0.149007</td>\n",
              "      <td>0.529801</td>\n",
              "      <td>149.612583</td>\n",
              "      <td>0.327815</td>\n",
              "      <td>1.037748</td>\n",
              "      <td>1.400662</td>\n",
              "      <td>0.731788</td>\n",
              "      <td>2.311258</td>\n",
              "      <td>0.543046</td>\n",
              "    </tr>\n",
              "    <tr>\n",
              "      <th>std</th>\n",
              "      <td>9.067887</td>\n",
              "      <td>0.465115</td>\n",
              "      <td>1.032044</td>\n",
              "      <td>17.541015</td>\n",
              "      <td>48.567877</td>\n",
              "      <td>0.356686</td>\n",
              "      <td>0.525849</td>\n",
              "      <td>22.935390</td>\n",
              "      <td>0.470196</td>\n",
              "      <td>1.162552</td>\n",
              "      <td>0.616818</td>\n",
              "      <td>1.023438</td>\n",
              "      <td>0.612011</td>\n",
              "      <td>0.498970</td>\n",
              "    </tr>\n",
              "    <tr>\n",
              "      <th>min</th>\n",
              "      <td>29.000000</td>\n",
              "      <td>0.000000</td>\n",
              "      <td>0.000000</td>\n",
              "      <td>94.000000</td>\n",
              "      <td>126.000000</td>\n",
              "      <td>0.000000</td>\n",
              "      <td>0.000000</td>\n",
              "      <td>71.000000</td>\n",
              "      <td>0.000000</td>\n",
              "      <td>0.000000</td>\n",
              "      <td>0.000000</td>\n",
              "      <td>0.000000</td>\n",
              "      <td>0.000000</td>\n",
              "      <td>0.000000</td>\n",
              "    </tr>\n",
              "    <tr>\n",
              "      <th>25%</th>\n",
              "      <td>47.250000</td>\n",
              "      <td>0.000000</td>\n",
              "      <td>0.000000</td>\n",
              "      <td>120.000000</td>\n",
              "      <td>211.000000</td>\n",
              "      <td>0.000000</td>\n",
              "      <td>0.000000</td>\n",
              "      <td>133.250000</td>\n",
              "      <td>0.000000</td>\n",
              "      <td>0.000000</td>\n",
              "      <td>1.000000</td>\n",
              "      <td>0.000000</td>\n",
              "      <td>2.000000</td>\n",
              "      <td>0.000000</td>\n",
              "    </tr>\n",
              "    <tr>\n",
              "      <th>50%</th>\n",
              "      <td>55.000000</td>\n",
              "      <td>1.000000</td>\n",
              "      <td>1.000000</td>\n",
              "      <td>130.000000</td>\n",
              "      <td>240.000000</td>\n",
              "      <td>0.000000</td>\n",
              "      <td>1.000000</td>\n",
              "      <td>152.500000</td>\n",
              "      <td>0.000000</td>\n",
              "      <td>0.800000</td>\n",
              "      <td>1.000000</td>\n",
              "      <td>0.000000</td>\n",
              "      <td>2.000000</td>\n",
              "      <td>1.000000</td>\n",
              "    </tr>\n",
              "    <tr>\n",
              "      <th>75%</th>\n",
              "      <td>61.000000</td>\n",
              "      <td>1.000000</td>\n",
              "      <td>2.000000</td>\n",
              "      <td>140.000000</td>\n",
              "      <td>274.000000</td>\n",
              "      <td>0.000000</td>\n",
              "      <td>1.000000</td>\n",
              "      <td>166.000000</td>\n",
              "      <td>1.000000</td>\n",
              "      <td>1.600000</td>\n",
              "      <td>2.000000</td>\n",
              "      <td>1.000000</td>\n",
              "      <td>3.000000</td>\n",
              "      <td>1.000000</td>\n",
              "    </tr>\n",
              "    <tr>\n",
              "      <th>max</th>\n",
              "      <td>77.000000</td>\n",
              "      <td>1.000000</td>\n",
              "      <td>3.000000</td>\n",
              "      <td>200.000000</td>\n",
              "      <td>417.000000</td>\n",
              "      <td>1.000000</td>\n",
              "      <td>2.000000</td>\n",
              "      <td>202.000000</td>\n",
              "      <td>1.000000</td>\n",
              "      <td>6.200000</td>\n",
              "      <td>2.000000</td>\n",
              "      <td>4.000000</td>\n",
              "      <td>3.000000</td>\n",
              "      <td>1.000000</td>\n",
              "    </tr>\n",
              "  </tbody>\n",
              "</table>\n",
              "</div>"
            ],
            "text/plain": [
              "              age         sex          cp  ...          ca        thal      target\n",
              "count  302.000000  302.000000  302.000000  ...  302.000000  302.000000  302.000000\n",
              "mean    54.324503    0.685430    0.963576  ...    0.731788    2.311258    0.543046\n",
              "std      9.067887    0.465115    1.032044  ...    1.023438    0.612011    0.498970\n",
              "min     29.000000    0.000000    0.000000  ...    0.000000    0.000000    0.000000\n",
              "25%     47.250000    0.000000    0.000000  ...    0.000000    2.000000    0.000000\n",
              "50%     55.000000    1.000000    1.000000  ...    0.000000    2.000000    1.000000\n",
              "75%     61.000000    1.000000    2.000000  ...    1.000000    3.000000    1.000000\n",
              "max     77.000000    1.000000    3.000000  ...    4.000000    3.000000    1.000000\n",
              "\n",
              "[8 rows x 14 columns]"
            ]
          },
          "metadata": {
            "tags": []
          },
          "execution_count": 80
        }
      ]
    },
    {
      "cell_type": "code",
      "metadata": {
        "colab": {
          "base_uri": "https://localhost:8080/",
          "height": 483
        },
        "id": "4ECTjg168T4K",
        "outputId": "47ce8e12-5b73-4671-cdca-9ab016f843e3"
      },
      "source": [
        "df.corr()"
      ],
      "execution_count": 81,
      "outputs": [
        {
          "output_type": "execute_result",
          "data": {
            "text/html": [
              "<div>\n",
              "<style scoped>\n",
              "    .dataframe tbody tr th:only-of-type {\n",
              "        vertical-align: middle;\n",
              "    }\n",
              "\n",
              "    .dataframe tbody tr th {\n",
              "        vertical-align: top;\n",
              "    }\n",
              "\n",
              "    .dataframe thead th {\n",
              "        text-align: right;\n",
              "    }\n",
              "</style>\n",
              "<table border=\"1\" class=\"dataframe\">\n",
              "  <thead>\n",
              "    <tr style=\"text-align: right;\">\n",
              "      <th></th>\n",
              "      <th>age</th>\n",
              "      <th>sex</th>\n",
              "      <th>cp</th>\n",
              "      <th>trestbps</th>\n",
              "      <th>chol</th>\n",
              "      <th>fbs</th>\n",
              "      <th>restecg</th>\n",
              "      <th>thalach</th>\n",
              "      <th>exang</th>\n",
              "      <th>oldpeak</th>\n",
              "      <th>slope</th>\n",
              "      <th>ca</th>\n",
              "      <th>thal</th>\n",
              "      <th>target</th>\n",
              "    </tr>\n",
              "  </thead>\n",
              "  <tbody>\n",
              "    <tr>\n",
              "      <th>age</th>\n",
              "      <td>1.000000</td>\n",
              "      <td>-0.092298</td>\n",
              "      <td>-0.073638</td>\n",
              "      <td>0.285074</td>\n",
              "      <td>0.198768</td>\n",
              "      <td>0.123668</td>\n",
              "      <td>-0.112119</td>\n",
              "      <td>-0.402041</td>\n",
              "      <td>0.100419</td>\n",
              "      <td>0.208534</td>\n",
              "      <td>-0.166471</td>\n",
              "      <td>0.280763</td>\n",
              "      <td>0.063155</td>\n",
              "      <td>-0.230720</td>\n",
              "    </tr>\n",
              "    <tr>\n",
              "      <th>sex</th>\n",
              "      <td>-0.092298</td>\n",
              "      <td>1.000000</td>\n",
              "      <td>-0.044712</td>\n",
              "      <td>-0.061698</td>\n",
              "      <td>-0.180288</td>\n",
              "      <td>0.043168</td>\n",
              "      <td>-0.063420</td>\n",
              "      <td>-0.041983</td>\n",
              "      <td>0.138885</td>\n",
              "      <td>0.098835</td>\n",
              "      <td>-0.034012</td>\n",
              "      <td>0.115297</td>\n",
              "      <td>0.216728</td>\n",
              "      <td>-0.277867</td>\n",
              "    </tr>\n",
              "    <tr>\n",
              "      <th>cp</th>\n",
              "      <td>-0.073638</td>\n",
              "      <td>-0.044712</td>\n",
              "      <td>1.000000</td>\n",
              "      <td>0.050920</td>\n",
              "      <td>-0.104171</td>\n",
              "      <td>0.096018</td>\n",
              "      <td>0.047920</td>\n",
              "      <td>0.294850</td>\n",
              "      <td>-0.392937</td>\n",
              "      <td>-0.151145</td>\n",
              "      <td>0.122160</td>\n",
              "      <td>-0.179131</td>\n",
              "      <td>-0.166087</td>\n",
              "      <td>0.432080</td>\n",
              "    </tr>\n",
              "    <tr>\n",
              "      <th>trestbps</th>\n",
              "      <td>0.285074</td>\n",
              "      <td>-0.061698</td>\n",
              "      <td>0.050920</td>\n",
              "      <td>1.000000</td>\n",
              "      <td>0.152531</td>\n",
              "      <td>0.176532</td>\n",
              "      <td>-0.117638</td>\n",
              "      <td>-0.045357</td>\n",
              "      <td>0.065577</td>\n",
              "      <td>0.195103</td>\n",
              "      <td>-0.123786</td>\n",
              "      <td>0.099375</td>\n",
              "      <td>0.065977</td>\n",
              "      <td>-0.142466</td>\n",
              "    </tr>\n",
              "    <tr>\n",
              "      <th>chol</th>\n",
              "      <td>0.198768</td>\n",
              "      <td>-0.180288</td>\n",
              "      <td>-0.104171</td>\n",
              "      <td>0.152531</td>\n",
              "      <td>1.000000</td>\n",
              "      <td>0.023294</td>\n",
              "      <td>-0.139828</td>\n",
              "      <td>-0.020472</td>\n",
              "      <td>0.086855</td>\n",
              "      <td>0.047183</td>\n",
              "      <td>0.009799</td>\n",
              "      <td>0.090977</td>\n",
              "      <td>0.081377</td>\n",
              "      <td>-0.111147</td>\n",
              "    </tr>\n",
              "    <tr>\n",
              "      <th>fbs</th>\n",
              "      <td>0.123668</td>\n",
              "      <td>0.043168</td>\n",
              "      <td>0.096018</td>\n",
              "      <td>0.176532</td>\n",
              "      <td>0.023294</td>\n",
              "      <td>1.000000</td>\n",
              "      <td>-0.085748</td>\n",
              "      <td>-0.007946</td>\n",
              "      <td>0.024729</td>\n",
              "      <td>0.006420</td>\n",
              "      <td>-0.060852</td>\n",
              "      <td>0.137147</td>\n",
              "      <td>-0.030539</td>\n",
              "      <td>-0.026826</td>\n",
              "    </tr>\n",
              "    <tr>\n",
              "      <th>restecg</th>\n",
              "      <td>-0.112119</td>\n",
              "      <td>-0.063420</td>\n",
              "      <td>0.047920</td>\n",
              "      <td>-0.117638</td>\n",
              "      <td>-0.139828</td>\n",
              "      <td>-0.085748</td>\n",
              "      <td>1.000000</td>\n",
              "      <td>0.045723</td>\n",
              "      <td>-0.073235</td>\n",
              "      <td>-0.057278</td>\n",
              "      <td>0.091099</td>\n",
              "      <td>-0.074610</td>\n",
              "      <td>-0.008272</td>\n",
              "      <td>0.140706</td>\n",
              "    </tr>\n",
              "    <tr>\n",
              "      <th>thalach</th>\n",
              "      <td>-0.402041</td>\n",
              "      <td>-0.041983</td>\n",
              "      <td>0.294850</td>\n",
              "      <td>-0.045357</td>\n",
              "      <td>-0.020472</td>\n",
              "      <td>-0.007946</td>\n",
              "      <td>0.045723</td>\n",
              "      <td>1.000000</td>\n",
              "      <td>-0.378200</td>\n",
              "      <td>-0.345162</td>\n",
              "      <td>0.388160</td>\n",
              "      <td>-0.212357</td>\n",
              "      <td>-0.098362</td>\n",
              "      <td>0.421096</td>\n",
              "    </tr>\n",
              "    <tr>\n",
              "      <th>exang</th>\n",
              "      <td>0.100419</td>\n",
              "      <td>0.138885</td>\n",
              "      <td>-0.392937</td>\n",
              "      <td>0.065577</td>\n",
              "      <td>0.086855</td>\n",
              "      <td>0.024729</td>\n",
              "      <td>-0.073235</td>\n",
              "      <td>-0.378200</td>\n",
              "      <td>1.000000</td>\n",
              "      <td>0.289683</td>\n",
              "      <td>-0.259635</td>\n",
              "      <td>0.114280</td>\n",
              "      <td>0.209952</td>\n",
              "      <td>-0.435601</td>\n",
              "    </tr>\n",
              "    <tr>\n",
              "      <th>oldpeak</th>\n",
              "      <td>0.208534</td>\n",
              "      <td>0.098835</td>\n",
              "      <td>-0.151145</td>\n",
              "      <td>0.195103</td>\n",
              "      <td>0.047183</td>\n",
              "      <td>0.006420</td>\n",
              "      <td>-0.057278</td>\n",
              "      <td>-0.345162</td>\n",
              "      <td>0.289683</td>\n",
              "      <td>1.000000</td>\n",
              "      <td>-0.577124</td>\n",
              "      <td>0.224102</td>\n",
              "      <td>0.208964</td>\n",
              "      <td>-0.432927</td>\n",
              "    </tr>\n",
              "    <tr>\n",
              "      <th>slope</th>\n",
              "      <td>-0.166471</td>\n",
              "      <td>-0.034012</td>\n",
              "      <td>0.122160</td>\n",
              "      <td>-0.123786</td>\n",
              "      <td>0.009799</td>\n",
              "      <td>-0.060852</td>\n",
              "      <td>0.091099</td>\n",
              "      <td>0.388160</td>\n",
              "      <td>-0.259635</td>\n",
              "      <td>-0.577124</td>\n",
              "      <td>1.000000</td>\n",
              "      <td>-0.081817</td>\n",
              "      <td>-0.102636</td>\n",
              "      <td>0.348569</td>\n",
              "    </tr>\n",
              "    <tr>\n",
              "      <th>ca</th>\n",
              "      <td>0.280763</td>\n",
              "      <td>0.115297</td>\n",
              "      <td>-0.179131</td>\n",
              "      <td>0.099375</td>\n",
              "      <td>0.090977</td>\n",
              "      <td>0.137147</td>\n",
              "      <td>-0.074610</td>\n",
              "      <td>-0.212357</td>\n",
              "      <td>0.114280</td>\n",
              "      <td>0.224102</td>\n",
              "      <td>-0.081817</td>\n",
              "      <td>1.000000</td>\n",
              "      <td>0.154943</td>\n",
              "      <td>-0.390431</td>\n",
              "    </tr>\n",
              "    <tr>\n",
              "      <th>thal</th>\n",
              "      <td>0.063155</td>\n",
              "      <td>0.216728</td>\n",
              "      <td>-0.166087</td>\n",
              "      <td>0.065977</td>\n",
              "      <td>0.081377</td>\n",
              "      <td>-0.030539</td>\n",
              "      <td>-0.008272</td>\n",
              "      <td>-0.098362</td>\n",
              "      <td>0.209952</td>\n",
              "      <td>0.208964</td>\n",
              "      <td>-0.102636</td>\n",
              "      <td>0.154943</td>\n",
              "      <td>1.000000</td>\n",
              "      <td>-0.348641</td>\n",
              "    </tr>\n",
              "    <tr>\n",
              "      <th>target</th>\n",
              "      <td>-0.230720</td>\n",
              "      <td>-0.277867</td>\n",
              "      <td>0.432080</td>\n",
              "      <td>-0.142466</td>\n",
              "      <td>-0.111147</td>\n",
              "      <td>-0.026826</td>\n",
              "      <td>0.140706</td>\n",
              "      <td>0.421096</td>\n",
              "      <td>-0.435601</td>\n",
              "      <td>-0.432927</td>\n",
              "      <td>0.348569</td>\n",
              "      <td>-0.390431</td>\n",
              "      <td>-0.348641</td>\n",
              "      <td>1.000000</td>\n",
              "    </tr>\n",
              "  </tbody>\n",
              "</table>\n",
              "</div>"
            ],
            "text/plain": [
              "               age       sex        cp  ...        ca      thal    target\n",
              "age       1.000000 -0.092298 -0.073638  ...  0.280763  0.063155 -0.230720\n",
              "sex      -0.092298  1.000000 -0.044712  ...  0.115297  0.216728 -0.277867\n",
              "cp       -0.073638 -0.044712  1.000000  ... -0.179131 -0.166087  0.432080\n",
              "trestbps  0.285074 -0.061698  0.050920  ...  0.099375  0.065977 -0.142466\n",
              "chol      0.198768 -0.180288 -0.104171  ...  0.090977  0.081377 -0.111147\n",
              "fbs       0.123668  0.043168  0.096018  ...  0.137147 -0.030539 -0.026826\n",
              "restecg  -0.112119 -0.063420  0.047920  ... -0.074610 -0.008272  0.140706\n",
              "thalach  -0.402041 -0.041983  0.294850  ... -0.212357 -0.098362  0.421096\n",
              "exang     0.100419  0.138885 -0.392937  ...  0.114280  0.209952 -0.435601\n",
              "oldpeak   0.208534  0.098835 -0.151145  ...  0.224102  0.208964 -0.432927\n",
              "slope    -0.166471 -0.034012  0.122160  ... -0.081817 -0.102636  0.348569\n",
              "ca        0.280763  0.115297 -0.179131  ...  1.000000  0.154943 -0.390431\n",
              "thal      0.063155  0.216728 -0.166087  ...  0.154943  1.000000 -0.348641\n",
              "target   -0.230720 -0.277867  0.432080  ... -0.390431 -0.348641  1.000000\n",
              "\n",
              "[14 rows x 14 columns]"
            ]
          },
          "metadata": {
            "tags": []
          },
          "execution_count": 81
        }
      ]
    },
    {
      "cell_type": "code",
      "metadata": {
        "colab": {
          "base_uri": "https://localhost:8080/",
          "height": 595
        },
        "id": "BHio3qh48cYC",
        "outputId": "bc63cdb9-ce40-4504-9db4-c6a1e98e9c90"
      },
      "source": [
        "corr_matrix = df.corr()\n",
        "fig, ax = plt.subplots(figsize=(15,10))\n",
        "sns.heatmap(corr_matrix,\n",
        "            annot=True,\n",
        "            linewidth=0.5,\n",
        "            fmt='.2f',\n",
        "            cmap='YlGnBu');"
      ],
      "execution_count": 85,
      "outputs": [
        {
          "output_type": "display_data",
          "data": {
            "image/png": "[encoded data removed]",
            "text/plain": [
              "<Figure size 1080x720 with 2 Axes>"
            ]
          },
          "metadata": {
            "tags": [],
            "needs_background": "light"
          }
        }
      ]
    },
    {
      "cell_type": "code",
      "metadata": {
        "colab": {
          "base_uri": "https://localhost:8080/"
        },
        "id": "TQvnqiea-ept",
        "outputId": "b0357521-17da-4f7e-e325-ae13cce2d26c"
      },
      "source": [
        "df.shape"
      ],
      "execution_count": 86,
      "outputs": [
        {
          "output_type": "execute_result",
          "data": {
            "text/plain": [
              "(302, 14)"
            ]
          },
          "metadata": {
            "tags": []
          },
          "execution_count": 86
        }
      ]
    },
    {
      "cell_type": "code",
      "metadata": {
        "colab": {
          "base_uri": "https://localhost:8080/"
        },
        "id": "xzkYEEJX9H83",
        "outputId": "290bf137-0478-4ef0-cbe1-91618ab1bcd2"
      },
      "source": [
        "# SKLearn\n",
        "# Metrics\n",
        "from sklearn.metrics import accuracy_score, precision_score,f1_score,recall_score\n",
        "from sklearn.metrics import roc_auc_score, classification_report\n",
        "from sklearn.model_selection import train_test_split, GridSearchCV, RandomizedSearchCV\n",
        "from sklearn.model_selection import cross_val_score\n",
        "\n",
        "# Models\n",
        "from sklearn.ensemble import RandomForestClassifier\n",
        "from sklearn.svm import LinearSVC, SVC\n",
        "from sklearn.neighbors import KNeighborsClassifier\n",
        "from sklearn.linear_model import LogisticRegression\n",
        "\n",
        "# Make sure the data stays the same so other people can mimic the results\n",
        "np.random.seed(42)\n",
        "X = df.drop('target', axis=1)\n",
        "y = df.target\n",
        "\n",
        "X_train,X_test,y_train,y_test = train_test_split(X,y,test_size=0.2)\n",
        "X_train.shape, X_test.shape"
      ],
      "execution_count": 89,
      "outputs": [
        {
          "output_type": "execute_result",
          "data": {
            "text/plain": [
              "((241, 13), (61, 13))"
            ]
          },
          "metadata": {
            "tags": []
          },
          "execution_count": 89
        }
      ]
    },
    {
      "cell_type": "code",
      "metadata": {
        "id": "ICq-GJcz-vMH"
      },
      "source": [
        "models = {'Logistic Regression': LogisticRegression(),\n",
        "          'Random Forest': RandomForestClassifier(),\n",
        "          'LinearSVC': LinearSVC(),\n",
        "          'SVC': SVC(),\n",
        "          'KNN': KNeighborsClassifier()}\n",
        "\n",
        "\n",
        "def fit_and_score(model,X_train,X_test,y_train,y_test):\n",
        "  \"\"\"\n",
        "  model = model\n",
        "  X_train = X_train\n",
        "  X_test = X_test\n",
        "  y_train = y_train\n",
        "  y_test = y_test\n",
        "  \"\"\"\n",
        "  # For replicating data\n",
        "  np.random.seed(42)\n",
        "\n",
        "  # Store data\n",
        "  model_dict = {}\n",
        "\n",
        "  for name, model in models.items():\n",
        "    model.fit(X_train,y_train)\n",
        "    model_dict[name] = model.score(X_test,y_test)\n",
        "  \n",
        "  return model_dict"
      ],
      "execution_count": 95,
      "outputs": []
    },
    {
      "cell_type": "code",
      "metadata": {
        "colab": {
          "base_uri": "https://localhost:8080/"
        },
        "id": "qJ2gYaeyBKaw",
        "outputId": "ed9b1782-df1d-4a51-9710-0d5f7fc8dcb3"
      },
      "source": [
        "model_scores = fit_and_score(model=models,\n",
        "                             X_train=X_train,\n",
        "                             X_test=X_test,\n",
        "                             y_train=y_train,\n",
        "                             y_test=y_test)\n",
        "model_scores"
      ],
      "execution_count": 97,
      "outputs": [
        {
          "output_type": "stream",
          "text": [
            "/usr/local/lib/python3.7/dist-packages/sklearn/linear_model/_logistic.py:940: ConvergenceWarning: lbfgs failed to converge (status=1):\n",
            "STOP: TOTAL NO. of ITERATIONS REACHED LIMIT.\n",
            "\n",
            "Increase the number of iterations (max_iter) or scale the data as shown in:\n",
            "    https://scikit-learn.org/stable/modules/preprocessing.html\n",
            "Please also refer to the documentation for alternative solver options:\n",
            "    https://scikit-learn.org/stable/modules/linear_model.html#logistic-regression\n",
            "  extra_warning_msg=_LOGISTIC_SOLVER_CONVERGENCE_MSG)\n",
            "/usr/local/lib/python3.7/dist-packages/sklearn/svm/_base.py:947: ConvergenceWarning: Liblinear failed to converge, increase the number of iterations.\n",
            "  \"the number of iterations.\", ConvergenceWarning)\n"
          ],
          "name": "stderr"
        },
        {
          "output_type": "execute_result",
          "data": {
            "text/plain": [
              "{'KNN': 0.639344262295082,\n",
              " 'LinearSVC': 0.5409836065573771,\n",
              " 'Logistic Regression': 0.8688524590163934,\n",
              " 'Random Forest': 0.819672131147541,\n",
              " 'SVC': 0.6721311475409836}"
            ]
          },
          "metadata": {
            "tags": []
          },
          "execution_count": 97
        }
      ]
    },
    {
      "cell_type": "code",
      "metadata": {
        "colab": {
          "base_uri": "https://localhost:8080/",
          "height": 338
        },
        "id": "85tPbkw8Bd40",
        "outputId": "44844147-6896-46d5-9273-15d5ea5a56a2"
      },
      "source": [
        "# plot vertical barplot\n",
        "sns.set(rc={'figure.figsize':(10,5)})\n",
        "ax = sns.barplot(x=list(model_scores.keys()), y=list(model_scores.values()))\n",
        "ax.set(title='Baseline Results') # title barplot\n",
        "# label each bar in barplot\n",
        "for p in ax.patches:\n",
        " # get the height of each bar\n",
        " height = p.get_height()\n",
        " # adding text to each bar\n",
        " ax.text(x = p.get_x()+(p.get_width()/2), # x-coordinate position of data label, padded to be in the middle of the bar\n",
        " y = height+0.005, # y-coordinate position of data label, padded 100 above bar\n",
        " s = '{:.3f}'.format(height), # data label, formatted to ignore decimals\n",
        " ha = 'center') # sets horizontal alignment (ha) to center"
      ],
      "execution_count": 98,
      "outputs": [
        {
          "output_type": "display_data",
          "data": {
            "image/png": "[encoded data removed]",
            "text/plain": [
              "<Figure size 720x360 with 1 Axes>"
            ]
          },
          "metadata": {
            "tags": []
          }
        }
      ]
    }
  ]
}